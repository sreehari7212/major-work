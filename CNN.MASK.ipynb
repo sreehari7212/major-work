{
 "cells": [
  {
   "cell_type": "code",
   "execution_count": 1,
   "id": "6237b4ab-1b9f-485e-8f21-02ede97f5673",
   "metadata": {},
   "outputs": [],
   "source": [
    "import cv2\n",
    "import numpy as np"
   ]
  },
  {
   "cell_type": "code",
   "execution_count": 3,
   "id": "a5e60fbf-1330-4090-a0bd-1bffdcf40cf7",
   "metadata": {},
   "outputs": [],
   "source": [
    "haar_data=cv2.CascadeClassifier(cv2.data.haarcascades + \"haarcascade_frontalface_default.xml\")"
   ]
  },
  {
   "cell_type": "code",
   "execution_count": 4,
   "id": "2aae86b6-5d3b-425d-aeec-6571a116e0fc",
   "metadata": {},
   "outputs": [
    {
     "name": "stdout",
     "output_type": "stream",
     "text": [
      "0\n",
      "1\n",
      "2\n",
      "3\n",
      "4\n",
      "5\n",
      "6\n",
      "7\n",
      "8\n",
      "9\n",
      "10\n",
      "11\n",
      "12\n",
      "13\n",
      "14\n",
      "15\n",
      "16\n",
      "17\n",
      "18\n",
      "19\n",
      "20\n",
      "21\n",
      "22\n",
      "23\n",
      "24\n",
      "25\n",
      "26\n",
      "27\n",
      "28\n",
      "29\n",
      "30\n",
      "31\n",
      "32\n",
      "33\n",
      "34\n",
      "35\n",
      "36\n",
      "37\n",
      "38\n",
      "39\n",
      "40\n",
      "41\n",
      "42\n",
      "43\n",
      "44\n",
      "45\n",
      "46\n",
      "47\n",
      "48\n",
      "49\n",
      "50\n",
      "51\n",
      "52\n",
      "53\n",
      "54\n",
      "55\n",
      "56\n",
      "57\n",
      "58\n",
      "59\n",
      "60\n",
      "61\n",
      "62\n",
      "63\n",
      "64\n",
      "65\n",
      "66\n",
      "67\n",
      "68\n",
      "69\n",
      "70\n",
      "71\n",
      "72\n",
      "73\n",
      "74\n",
      "75\n",
      "76\n",
      "77\n",
      "78\n",
      "79\n",
      "80\n",
      "81\n",
      "82\n",
      "83\n",
      "84\n",
      "85\n",
      "86\n",
      "87\n",
      "88\n",
      "89\n",
      "90\n",
      "91\n",
      "92\n",
      "93\n",
      "94\n",
      "95\n",
      "96\n",
      "97\n",
      "98\n",
      "99\n",
      "100\n",
      "101\n",
      "102\n",
      "103\n",
      "104\n",
      "105\n",
      "106\n",
      "107\n",
      "108\n",
      "109\n",
      "110\n",
      "111\n",
      "112\n",
      "113\n",
      "114\n",
      "115\n",
      "116\n",
      "117\n",
      "118\n",
      "119\n",
      "120\n",
      "121\n",
      "122\n",
      "123\n",
      "124\n",
      "125\n",
      "126\n",
      "127\n",
      "128\n",
      "129\n",
      "130\n",
      "131\n",
      "132\n",
      "133\n",
      "134\n",
      "135\n",
      "136\n",
      "137\n",
      "138\n",
      "139\n",
      "140\n",
      "141\n",
      "142\n",
      "143\n",
      "144\n",
      "145\n",
      "146\n",
      "147\n",
      "148\n",
      "149\n",
      "150\n",
      "151\n",
      "152\n",
      "153\n",
      "154\n",
      "155\n",
      "156\n",
      "157\n",
      "158\n",
      "159\n",
      "160\n",
      "161\n",
      "162\n",
      "163\n",
      "164\n",
      "165\n",
      "166\n",
      "167\n",
      "168\n",
      "169\n",
      "170\n",
      "171\n",
      "172\n",
      "173\n",
      "174\n",
      "175\n",
      "176\n",
      "177\n",
      "178\n",
      "179\n",
      "180\n",
      "181\n",
      "182\n",
      "183\n",
      "184\n",
      "185\n",
      "186\n",
      "187\n",
      "188\n",
      "189\n",
      "190\n",
      "191\n",
      "192\n",
      "193\n",
      "194\n",
      "195\n",
      "196\n",
      "197\n",
      "198\n",
      "199\n"
     ]
    }
   ],
   "source": [
    "capture=cv2.VideoCapture(0)\n",
    "data=[]\n",
    "while True:\n",
    "    flag, img=capture.read()\n",
    "    if flag is True:\n",
    "        faces=haar_data.detectMultiScale(img)\n",
    "        for x,y,w,h in faces:\n",
    "            cv2.rectangle(img,(x,y),(x+w,y+h),(255,0,0),4)\n",
    "            face=img[y:y+h,x:x+w,:]\n",
    "            face=cv2.resize(face,(100,100))\n",
    "            print(len(data))\n",
    "            data.append(face)\n",
    "    cv2.imshow('result',img)\n",
    "    if cv2.waitKey(2)==27 or len(data)>=200:\n",
    "        break\n",
    "        \n",
    "        \n",
    "capture.release()\n",
    "cv2.destroyAllWindows()\n",
    "        \n",
    "    "
   ]
  },
  {
   "cell_type": "code",
   "execution_count": 5,
   "id": "5c358621-7e7e-4858-8397-669da6ed3844",
   "metadata": {},
   "outputs": [],
   "source": [
    "# while True:\n",
    "#     cv2.imshow(\"result\",data[27])\n",
    "#     if cv2.waitKey(20)==27:\n",
    "#            break\n",
    "# capture.release()\n",
    "# cv2.destroyAllwindows()               \n",
    "               \n",
    "               \n",
    "               \n",
    "\n",
    "              \n",
    "               \n",
    "            \n",
    "               \n",
    "               "
   ]
  },
  {
   "cell_type": "code",
   "execution_count": 33,
   "id": "35eaffbb-4e73-41e7-9afc-9f00fb37c99e",
   "metadata": {},
   "outputs": [
    {
     "name": "stdout",
     "output_type": "stream",
     "text": [
      "0\n",
      "1\n",
      "2\n",
      "3\n",
      "4\n",
      "5\n",
      "6\n",
      "7\n",
      "8\n",
      "9\n",
      "10\n",
      "11\n",
      "12\n",
      "13\n",
      "14\n",
      "15\n",
      "16\n",
      "17\n",
      "18\n",
      "19\n",
      "20\n",
      "21\n",
      "22\n",
      "23\n",
      "24\n",
      "25\n",
      "26\n",
      "27\n",
      "28\n",
      "29\n",
      "30\n",
      "31\n",
      "32\n",
      "33\n",
      "34\n",
      "35\n",
      "36\n",
      "37\n",
      "38\n",
      "39\n",
      "40\n",
      "41\n",
      "42\n",
      "43\n",
      "44\n",
      "45\n",
      "46\n",
      "47\n",
      "48\n",
      "49\n",
      "50\n",
      "51\n",
      "52\n",
      "53\n",
      "54\n",
      "55\n",
      "56\n",
      "57\n",
      "58\n",
      "59\n",
      "60\n",
      "61\n",
      "62\n",
      "63\n",
      "64\n",
      "65\n",
      "66\n",
      "67\n",
      "68\n",
      "69\n",
      "70\n",
      "71\n",
      "72\n",
      "73\n",
      "74\n",
      "75\n",
      "76\n",
      "77\n",
      "78\n",
      "79\n",
      "80\n",
      "81\n",
      "82\n",
      "83\n",
      "84\n",
      "85\n",
      "86\n",
      "87\n",
      "88\n",
      "89\n",
      "90\n",
      "91\n",
      "92\n",
      "93\n",
      "94\n",
      "95\n",
      "96\n",
      "97\n",
      "98\n",
      "99\n",
      "100\n",
      "101\n",
      "102\n",
      "103\n",
      "104\n",
      "105\n",
      "106\n",
      "107\n",
      "108\n",
      "109\n",
      "110\n",
      "111\n",
      "112\n",
      "113\n",
      "114\n",
      "115\n",
      "116\n",
      "117\n",
      "118\n",
      "119\n",
      "120\n",
      "121\n",
      "122\n",
      "123\n",
      "124\n",
      "125\n",
      "126\n",
      "127\n",
      "128\n",
      "129\n",
      "130\n",
      "131\n",
      "132\n",
      "133\n",
      "134\n",
      "135\n",
      "136\n",
      "137\n",
      "138\n",
      "139\n",
      "140\n",
      "141\n",
      "142\n",
      "143\n",
      "144\n",
      "145\n",
      "146\n",
      "147\n",
      "148\n",
      "149\n",
      "150\n",
      "151\n",
      "152\n",
      "153\n",
      "154\n",
      "155\n",
      "156\n",
      "157\n",
      "158\n",
      "159\n",
      "160\n",
      "161\n",
      "162\n",
      "163\n",
      "164\n",
      "165\n",
      "166\n",
      "167\n",
      "168\n",
      "169\n",
      "170\n",
      "171\n",
      "172\n",
      "173\n",
      "174\n",
      "175\n",
      "176\n",
      "177\n",
      "178\n",
      "179\n",
      "180\n",
      "181\n",
      "182\n",
      "183\n",
      "184\n",
      "185\n",
      "186\n",
      "187\n",
      "188\n",
      "189\n",
      "190\n",
      "191\n",
      "192\n",
      "193\n",
      "194\n",
      "195\n",
      "196\n",
      "197\n",
      "198\n",
      "199\n"
     ]
    }
   ],
   "source": [
    "capture=cv2.VideoCapture(0)\n",
    "data_mask=[]\n",
    "while True:\n",
    "    flag, img=capture.read()\n",
    "    if flag is True:\n",
    "        faces=haar_data.detectMultiScale(img)\n",
    "        for x,y,w,h in faces:\n",
    "            cv2.rectangle(img,(x,y),(x+w,y+h),(255,0,0),4)\n",
    "            face=img[y:y+h,x:x+w,:]\n",
    "            face=cv2.resize(face,(100,100))\n",
    "            print(len(data_mask))\n",
    "            data_mask.append(face)\n",
    "    cv2.imshow('result',img)\n",
    "    if cv2.waitKey(2)==27 or len(data_mask)>=200:\n",
    "        break\n",
    "        \n",
    "        \n",
    "capture.release()\n",
    "cv2.destroyAllWindows()\n",
    "        \n",
    "    "
   ]
  },
  {
   "cell_type": "code",
   "execution_count": 34,
   "id": "9dca5d2a-c61f-407c-ab18-51bd225e63ab",
   "metadata": {},
   "outputs": [],
   "source": [
    "data=np.array(data)"
   ]
  },
  {
   "cell_type": "code",
   "execution_count": 35,
   "id": "79e76c23-9e93-4ccb-9650-ca80fe97ace4",
   "metadata": {},
   "outputs": [],
   "source": [
    "data_mask=np.array(data_mask)"
   ]
  },
  {
   "cell_type": "code",
   "execution_count": 36,
   "id": "0179a9d9-9dff-4736-84b3-8bfc569a2f47",
   "metadata": {},
   "outputs": [],
   "source": [
    "np.save(\"no_mask.npy\",data)\n",
    "np.save(\"mask.npy\",data_mask)"
   ]
  },
  {
   "cell_type": "code",
   "execution_count": 37,
   "id": "8da5c2ec-146c-4ff8-a5b8-86bff53e99d6",
   "metadata": {},
   "outputs": [],
   "source": [
    "with_mask=np.load('mask.npy')\n",
    "without_mask=np.load('no_mask.npy')"
   ]
  },
  {
   "cell_type": "code",
   "execution_count": 38,
   "id": "a13e1a7a-ed11-4d3d-b6ed-b254f20e2947",
   "metadata": {},
   "outputs": [
    {
     "data": {
      "text/plain": [
       "(200, 100, 100, 3)"
      ]
     },
     "execution_count": 38,
     "metadata": {},
     "output_type": "execute_result"
    }
   ],
   "source": [
    "with_mask.shape"
   ]
  },
  {
   "cell_type": "code",
   "execution_count": 39,
   "id": "71ca59ad-d2d7-42e2-8306-fedc70e60b48",
   "metadata": {},
   "outputs": [
    {
     "data": {
      "text/plain": [
       "(200, 100, 100, 3)"
      ]
     },
     "execution_count": 39,
     "metadata": {},
     "output_type": "execute_result"
    }
   ],
   "source": [
    "without_mask.shape"
   ]
  },
  {
   "cell_type": "code",
   "execution_count": 40,
   "id": "ac89dcb4-2b95-48d4-8037-8893df0feed6",
   "metadata": {},
   "outputs": [],
   "source": [
    "x=np.r_[data,data_mask]"
   ]
  },
  {
   "cell_type": "code",
   "execution_count": 41,
   "id": "1397f586-9300-407a-a359-82abf7d8d192",
   "metadata": {},
   "outputs": [
    {
     "data": {
      "text/plain": [
       "(400, 100, 100, 3)"
      ]
     },
     "execution_count": 41,
     "metadata": {},
     "output_type": "execute_result"
    }
   ],
   "source": [
    "x.shape"
   ]
  },
  {
   "cell_type": "code",
   "execution_count": 42,
   "id": "2818cc99-f563-4b28-ab55-9a7f22cd78b3",
   "metadata": {},
   "outputs": [],
   "source": [
    " labels=np.zeros(x.shape[0])"
   ]
  },
  {
   "cell_type": "code",
   "execution_count": 43,
   "id": "5bdfc5ea-2167-4386-963b-fb3604c361cf",
   "metadata": {},
   "outputs": [],
   "source": [
    "labels[200:]=1"
   ]
  },
  {
   "cell_type": "code",
   "execution_count": 44,
   "id": "973dcb4d-890d-4158-ae6f-b355ef380c4b",
   "metadata": {},
   "outputs": [
    {
     "data": {
      "text/plain": [
       "array([0., 0., 0., 0., 0., 0., 0., 0., 0., 0., 0., 0., 0., 0., 0., 0., 0.,\n",
       "       0., 0., 0., 0., 0., 0., 0., 0., 0., 0., 0., 0., 0., 0., 0., 0., 0.,\n",
       "       0., 0., 0., 0., 0., 0., 0., 0., 0., 0., 0., 0., 0., 0., 0., 0., 0.,\n",
       "       0., 0., 0., 0., 0., 0., 0., 0., 0., 0., 0., 0., 0., 0., 0., 0., 0.,\n",
       "       0., 0., 0., 0., 0., 0., 0., 0., 0., 0., 0., 0., 0., 0., 0., 0., 0.,\n",
       "       0., 0., 0., 0., 0., 0., 0., 0., 0., 0., 0., 0., 0., 0., 0., 0., 0.,\n",
       "       0., 0., 0., 0., 0., 0., 0., 0., 0., 0., 0., 0., 0., 0., 0., 0., 0.,\n",
       "       0., 0., 0., 0., 0., 0., 0., 0., 0., 0., 0., 0., 0., 0., 0., 0., 0.,\n",
       "       0., 0., 0., 0., 0., 0., 0., 0., 0., 0., 0., 0., 0., 0., 0., 0., 0.,\n",
       "       0., 0., 0., 0., 0., 0., 0., 0., 0., 0., 0., 0., 0., 0., 0., 0., 0.,\n",
       "       0., 0., 0., 0., 0., 0., 0., 0., 0., 0., 0., 0., 0., 0., 0., 0., 0.,\n",
       "       0., 0., 0., 0., 0., 0., 0., 0., 0., 0., 0., 0., 0., 1., 1., 1., 1.,\n",
       "       1., 1., 1., 1., 1., 1., 1., 1., 1., 1., 1., 1., 1., 1., 1., 1., 1.,\n",
       "       1., 1., 1., 1., 1., 1., 1., 1., 1., 1., 1., 1., 1., 1., 1., 1., 1.,\n",
       "       1., 1., 1., 1., 1., 1., 1., 1., 1., 1., 1., 1., 1., 1., 1., 1., 1.,\n",
       "       1., 1., 1., 1., 1., 1., 1., 1., 1., 1., 1., 1., 1., 1., 1., 1., 1.,\n",
       "       1., 1., 1., 1., 1., 1., 1., 1., 1., 1., 1., 1., 1., 1., 1., 1., 1.,\n",
       "       1., 1., 1., 1., 1., 1., 1., 1., 1., 1., 1., 1., 1., 1., 1., 1., 1.,\n",
       "       1., 1., 1., 1., 1., 1., 1., 1., 1., 1., 1., 1., 1., 1., 1., 1., 1.,\n",
       "       1., 1., 1., 1., 1., 1., 1., 1., 1., 1., 1., 1., 1., 1., 1., 1., 1.,\n",
       "       1., 1., 1., 1., 1., 1., 1., 1., 1., 1., 1., 1., 1., 1., 1., 1., 1.,\n",
       "       1., 1., 1., 1., 1., 1., 1., 1., 1., 1., 1., 1., 1., 1., 1., 1., 1.,\n",
       "       1., 1., 1., 1., 1., 1., 1., 1., 1., 1., 1., 1., 1., 1., 1., 1., 1.,\n",
       "       1., 1., 1., 1., 1., 1., 1., 1., 1.])"
      ]
     },
     "execution_count": 44,
     "metadata": {},
     "output_type": "execute_result"
    }
   ],
   "source": [
    "labels"
   ]
  },
  {
   "cell_type": "code",
   "execution_count": 45,
   "id": "8e364145-b78d-4f1f-828e-5c6b46036f24",
   "metadata": {},
   "outputs": [],
   "source": [
    "from sklearn.model_selection import train_test_split\n",
    "xtrain,xtest,ytrain,ytest=train_test_split(x,labels,test_size=.30,random_state=1)"
   ]
  },
  {
   "cell_type": "code",
   "execution_count": 46,
   "id": "56ed1ee4-f8a4-437e-b8c2-57638cce6280",
   "metadata": {},
   "outputs": [],
   "source": [
    "xtrain=xtrain/255\n",
    "xtest=xtest/255"
   ]
  },
  {
   "cell_type": "code",
   "execution_count": 47,
   "id": "d648c77d-65f1-48c1-ac44-2c87ecc07378",
   "metadata": {},
   "outputs": [
    {
     "data": {
      "text/plain": [
       "(280, 100, 100, 3)"
      ]
     },
     "execution_count": 47,
     "metadata": {},
     "output_type": "execute_result"
    }
   ],
   "source": [
    "xtrain.shape"
   ]
  },
  {
   "cell_type": "code",
   "execution_count": 48,
   "id": "58c60d96-c1e2-4b35-a29a-de82fd663815",
   "metadata": {},
   "outputs": [
    {
     "data": {
      "text/plain": [
       "array([0., 0., 1., 1., 1.])"
      ]
     },
     "execution_count": 48,
     "metadata": {},
     "output_type": "execute_result"
    }
   ],
   "source": [
    "ytrain=ytrain.reshape(-1,)\n",
    "ytrain[:5]"
   ]
  },
  {
   "cell_type": "code",
   "execution_count": 49,
   "id": "c737695d-c451-4c21-8015-597d450b4b3d",
   "metadata": {},
   "outputs": [
    {
     "data": {
      "text/plain": [
       "array([1., 0., 1., 1., 0.])"
      ]
     },
     "execution_count": 49,
     "metadata": {},
     "output_type": "execute_result"
    }
   ],
   "source": [
    "ytest=ytest.reshape(-1,)\n",
    "ytest[:5]"
   ]
  },
  {
   "cell_type": "code",
   "execution_count": 50,
   "id": "9c5e4b79-3cde-4d1b-8718-8d18e5a73331",
   "metadata": {},
   "outputs": [],
   "source": [
    "import tensorflow\n",
    "from tensorflow.keras import layers,models,datasets\n",
    "from tensorflow.keras.layers import Conv2D,MaxPool2D,Flatten,Dense\n",
    "from tensorflow.keras.optimizers import Adam\n",
    "from tensorflow.keras.losses import SparseCategoricalCrossentropy\n",
    "import matplotlib.pyplot as plt\n",
    "import numpy as np\n",
    "from tensorflow.keras import Sequential"
   ]
  },
  {
   "cell_type": "code",
   "execution_count": 51,
   "id": "91bf425c-7c71-4237-a2d6-34db10d83e39",
   "metadata": {},
   "outputs": [],
   "source": [
    "model= Sequential()\n",
    "model.add(Conv2D(filters=32,kernel_size=(3,3),input_shape=(100,100,3),padding=\"valid\",strides=1,activation='relu'))\n",
    "model.add(MaxPool2D(pool_size=(2,2)))\n",
    "model.add(Conv2D(filters=15,kernel_size=(3,3),padding=\"valid\",strides=1,activation='relu'))\n",
    "model.add(MaxPool2D(pool_size=(2,2)))\n",
    "model.add(Flatten())\n",
    "model.add(Dense(100,activation='relu'))\n",
    "model.add(Dense(70,activation='relu'))\n",
    "model.add(Dense(30,activation='relu'))         \n",
    "model.add(Dense(10,activation='softmax'))     "
   ]
  },
  {
   "cell_type": "code",
   "execution_count": 52,
   "id": "b31af020-5670-4b5a-ad3e-6ef313ea3cdb",
   "metadata": {},
   "outputs": [
    {
     "name": "stdout",
     "output_type": "stream",
     "text": [
      "Model: \"sequential_1\"\n",
      "_________________________________________________________________\n",
      " Layer (type)                Output Shape              Param #   \n",
      "=================================================================\n",
      " conv2d_2 (Conv2D)           (None, 98, 98, 32)        896       \n",
      "                                                                 \n",
      " max_pooling2d_2 (MaxPooling  (None, 49, 49, 32)       0         \n",
      " 2D)                                                             \n",
      "                                                                 \n",
      " conv2d_3 (Conv2D)           (None, 47, 47, 15)        4335      \n",
      "                                                                 \n",
      " max_pooling2d_3 (MaxPooling  (None, 23, 23, 15)       0         \n",
      " 2D)                                                             \n",
      "                                                                 \n",
      " flatten_1 (Flatten)         (None, 7935)              0         \n",
      "                                                                 \n",
      " dense_4 (Dense)             (None, 100)               793600    \n",
      "                                                                 \n",
      " dense_5 (Dense)             (None, 70)                7070      \n",
      "                                                                 \n",
      " dense_6 (Dense)             (None, 30)                2130      \n",
      "                                                                 \n",
      " dense_7 (Dense)             (None, 10)                310       \n",
      "                                                                 \n",
      "=================================================================\n",
      "Total params: 808,341\n",
      "Trainable params: 808,341\n",
      "Non-trainable params: 0\n",
      "_________________________________________________________________\n"
     ]
    }
   ],
   "source": [
    "model.summary()"
   ]
  },
  {
   "cell_type": "code",
   "execution_count": 53,
   "id": "ba676dae-2e5e-4c97-a4e4-18df721b4e69",
   "metadata": {},
   "outputs": [],
   "source": [
    "model.compile(optimizer=Adam(),loss=SparseCategoricalCrossentropy(),metrics=['accuracy'])"
   ]
  },
  {
   "cell_type": "code",
   "execution_count": 54,
   "id": "62f803a8-ee36-4b0e-89c4-6acbc80383a8",
   "metadata": {},
   "outputs": [
    {
     "name": "stdout",
     "output_type": "stream",
     "text": [
      "Epoch 1/10\n",
      "140/140 [==============================] - 6s 30ms/step - loss: 0.6426 - accuracy: 0.6893 - val_loss: 0.2599 - val_accuracy: 0.9583\n",
      "Epoch 2/10\n",
      "140/140 [==============================] - 4s 26ms/step - loss: 0.2273 - accuracy: 0.9393 - val_loss: 0.4239 - val_accuracy: 0.9000\n",
      "Epoch 3/10\n",
      "140/140 [==============================] - 3s 24ms/step - loss: 0.1225 - accuracy: 0.9643 - val_loss: 0.3790 - val_accuracy: 0.9667\n",
      "Epoch 4/10\n",
      "140/140 [==============================] - 3s 24ms/step - loss: 0.0429 - accuracy: 0.9857 - val_loss: 0.0380 - val_accuracy: 0.9917\n",
      "Epoch 5/10\n",
      "140/140 [==============================] - 3s 24ms/step - loss: 0.0980 - accuracy: 0.9750 - val_loss: 0.4996 - val_accuracy: 0.9167\n",
      "Epoch 6/10\n",
      "140/140 [==============================] - 4s 28ms/step - loss: 0.0996 - accuracy: 0.9821 - val_loss: 0.0947 - val_accuracy: 0.9750\n",
      "Epoch 7/10\n",
      "140/140 [==============================] - 4s 25ms/step - loss: 0.0184 - accuracy: 0.9929 - val_loss: 0.1419 - val_accuracy: 0.9750\n",
      "Epoch 8/10\n",
      "140/140 [==============================] - 3s 24ms/step - loss: 0.0094 - accuracy: 0.9964 - val_loss: 0.4652 - val_accuracy: 0.9500\n",
      "Epoch 9/10\n",
      "140/140 [==============================] - 5s 34ms/step - loss: 0.1548 - accuracy: 0.9679 - val_loss: 0.0730 - val_accuracy: 0.9750\n",
      "Epoch 10/10\n",
      "140/140 [==============================] - 4s 29ms/step - loss: 0.0092 - accuracy: 0.9964 - val_loss: 0.1429 - val_accuracy: 0.9750\n"
     ]
    }
   ],
   "source": [
    "hist=model.fit(xtrain,ytrain,batch_size=2,epochs=10,validation_data=(xtest,ytest))"
   ]
  },
  {
   "cell_type": "code",
   "execution_count": 57,
   "id": "83ce548c-17b6-4c3c-8b59-e69bd9201620",
   "metadata": {},
   "outputs": [],
   "source": [
    "history=hist.history"
   ]
  },
  {
   "cell_type": "code",
   "execution_count": 58,
   "id": "b1e0dc45-1809-4d7f-8331-13e717a3dc97",
   "metadata": {},
   "outputs": [
    {
     "data": {
      "text/plain": [
       "<matplotlib.legend.Legend at 0x1f301162d90>"
      ]
     },
     "execution_count": 58,
     "metadata": {},
     "output_type": "execute_result"
    },
    {
     "data": {
      "image/png": "[encoded data removed]",
      "text/plain": [
       "<Figure size 432x288 with 1 Axes>"
      ]
     },
     "metadata": {
      "needs_background": "light"
     },
     "output_type": "display_data"
    }
   ],
   "source": [
    "plt.title(\"Learning Curve\")\n",
    "plt.xlabel(\"epochs\")\n",
    "plt.ylabel(\"Accuracy\")\n",
    "plt.plot(history[\"accuracy\"],label=(\"Accuracy\"))\n",
    "plt.plot(history[\"val_accuracy\"],label=(\"Validation Accuracy\"))\n",
    "plt.grid(True)\n",
    "#plt.style.use(\"seaborn-paper\")\n",
    "#plt.show()\n",
    "plt.legend()"
   ]
  },
  {
   "cell_type": "code",
   "execution_count": 59,
   "id": "9aa71172-cbd7-4531-b4a5-160cb8520007",
   "metadata": {},
   "outputs": [
    {
     "data": {
      "text/plain": [
       "<matplotlib.legend.Legend at 0x1f3011d3eb0>"
      ]
     },
     "execution_count": 59,
     "metadata": {},
     "output_type": "execute_result"
    },
    {
     "data": {
      "image/png": "[encoded data removed]",
      "text/plain": [
       "<Figure size 432x288 with 1 Axes>"
      ]
     },
     "metadata": {
      "needs_background": "light"
     },
     "output_type": "display_data"
    }
   ],
   "source": [
    "plt.title(\"Learning Curve\")\n",
    "plt.xlabel(\"epochs\")\n",
    "plt.ylabel(\"loss\")\n",
    "plt.plot(history[\"loss\"],label=(\"loss\"))\n",
    "plt.plot(history[\"val_loss\"],label=(\"Validation loss\"))\n",
    "plt.grid(True)\n",
    "#plt.style.use(\"seaborn-paper\")\n",
    "#plt.show()\n",
    "plt.legend()"
   ]
  },
  {
   "cell_type": "code",
   "execution_count": 60,
   "id": "50aff7ab-2c92-4a39-bb5b-399fe9633d52",
   "metadata": {},
   "outputs": [
    {
     "name": "stdout",
     "output_type": "stream",
     "text": [
      "4/4 [==============================] - 1s 49ms/step - loss: 0.1429 - accuracy: 0.9750\n"
     ]
    },
    {
     "data": {
      "text/plain": [
       "[0.14290371537208557, 0.9750000238418579]"
      ]
     },
     "execution_count": 60,
     "metadata": {},
     "output_type": "execute_result"
    }
   ],
   "source": [
    "model.evaluate(xtest,ytest)"
   ]
  },
  {
   "cell_type": "code",
   "execution_count": null,
   "id": "fe84d30c-a1d4-41f1-a0d7-674768203ba0",
   "metadata": {},
   "outputs": [],
   "source": [
    "capture=cv2.VideoCapture(0)\n",
    "names={0:'no_mask',1:'mask'}\n",
    "while True:\n",
    "    flag,img=capture.read()\n",
    "    if flag is True:\n",
    "        faces=haar_data.detectMultiScale(img)\n",
    "        for x,y,w,h in faces:\n",
    "            cv2.rectangle(img,(x,y),(x+w,y+h),(255,0,0),4)\n",
    "            face=img[y:y+h,x:x+w, :]\n",
    "            face=cv2.resize(face,(100,100))\n",
    "            face=face.reshape(1,100,100,3)\n",
    "            pred=model.predict(face)\n",
    "            label=np.argmax(pred,axis=1)[0]\n",
    "            cv2.putText(img,names[label],(x,y),cv2.FONT_HERSHEY_SIMPLEX,.7,(0,255,0),2)\n",
    "        cv2.imshow(\"result\",img)\n",
    "        if cv2.waitKey(2)==27:\n",
    "            break\n",
    "capture.release()\n",
    "cv2.destroyAllWindows()\n",
    "    "
   ]
  },
  {
   "cell_type": "code",
   "execution_count": null,
   "id": "e1a15df8-1932-4c9a-bf7c-0b80f1dd3b80",
   "metadata": {},
   "outputs": [],
   "source": []
  },
  {
   "cell_type": "code",
   "execution_count": null,
   "id": "4c033dcb-fa41-4eba-a2cc-ff2cede6d461",
   "metadata": {},
   "outputs": [],
   "source": []
  }
 ],
 "metadata": {
  "kernelspec": {
   "display_name": "Python 3 (ipykernel)",
   "language": "python",
   "name": "python3"
  },
  "language_info": {
   "codemirror_mode": {
    "name": "ipython",
    "version": 3
   },
   "file_extension": ".py",
   "mimetype": "text/x-python",
   "name": "python",
   "nbconvert_exporter": "python",
   "pygments_lexer": "ipython3",
   "version": "3.9.12"
  }
 },
 "nbformat": 4,
 "nbformat_minor": 5
}
